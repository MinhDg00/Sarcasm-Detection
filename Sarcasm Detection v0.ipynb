{
 "cells": [
  {
   "cell_type": "markdown",
   "metadata": {},
   "source": [
    "# Sarcasm Detection\n",
    "\n",
    "The purpose of the project is to detect sarcasm in the news headline sentences and analyze the detection model performance (baseline, LSTM, Convolutional, ...etc).\n",
    "\n",
    "The data used in the project is the News Headlines Dataset for Sarcasm Detection on Kaggle website: https://www.kaggle.com/rmisra/news-headlines-dataset-for-sarcasm-detection \n",
    "\n",
    "<img src ='426617534.jpg'>"
   ]
  },
  {
   "cell_type": "code",
   "execution_count": 1,
   "metadata": {},
   "outputs": [
    {
     "name": "stdout",
     "output_type": "stream",
     "text": [
      "2.0.0-beta1\n"
     ]
    }
   ],
   "source": [
    "#Importing libraries\n",
    "import json\n",
    "import numpy as np\n",
    "import tensorflow as tf\n",
    "import matplotlib.pyplot as plt\n",
    "from sklearn.model_selection import train_test_split\n",
    "from tensorflow import keras\n",
    "from tensorflow.keras.preprocessing.text import Tokenizer\n",
    "from tensorflow.keras.preprocessing.sequence import pad_sequences\n",
    "from tensorflow.keras.layers import Embedding, Flatten, Dense, Bidirectional, Conv1D, Dropout, GRU, LSTM, MaxPooling1D\n",
    "import warnings \n",
    "warnings.filterwarnings('ignore')\n",
    "%matplotlib inline\n",
    "\n",
    "print(tf.__version__)"
   ]
  },
  {
   "cell_type": "markdown",
   "metadata": {},
   "source": [
    "### 1. Import Sarcasm Data and Preprocessing"
   ]
  },
  {
   "cell_type": "code",
   "execution_count": 2,
   "metadata": {},
   "outputs": [
    {
     "name": "stdout",
     "output_type": "stream",
     "text": [
      "['thirtysomething scientists unveil doomsday clock of hair loss', 'dem rep. totally nails why congress is falling short on gender, racial equality', 'eat your veggies: 9 deliciously different recipes', 'inclement weather prevents liar from getting to work', \"mother comes pretty close to using word 'streaming' correctly\", 'my white inheritance']\n",
      "[1, 0, 0, 1, 1, 0]\n",
      "['https://www.theonion.com/thirtysomething-scientists-unveil-doomsday-clock-of-hai-1819586205', 'https://www.huffingtonpost.com/entry/donna-edwards-inequality_us_57455f7fe4b055bb1170b207', 'https://www.huffingtonpost.com/entry/eat-your-veggies-9-delici_b_8899742.html', 'https://local.theonion.com/inclement-weather-prevents-liar-from-getting-to-work-1819576031', 'https://www.theonion.com/mother-comes-pretty-close-to-using-word-streaming-cor-1819575546', 'https://www.huffingtonpost.com/entry/my-white-inheritance_us_59230747e4b07617ae4cbe1a']\n"
     ]
    },
    {
     "data": {
      "text/plain": [
       "28619"
      ]
     },
     "execution_count": 2,
     "metadata": {},
     "output_type": "execute_result"
    }
   ],
   "source": [
    "# input data and label the feature \n",
    "sarcasm = []\n",
    "for line in open(\"Sarcasm_Headlines_Dataset_v2.json\", \"r\"):\n",
    "  sarcasm.append(json.loads(line))\n",
    "\n",
    "sentences =[]\n",
    "labels = []\n",
    "urls = []\n",
    "\n",
    "for item in sarcasm: \n",
    "    sentences.append(item['headline'])\n",
    "    labels.append(item['is_sarcastic'])\n",
    "    urls.append(item['article_link'])\n",
    "    \n",
    "print(sentences[:6])\n",
    "print(labels[:6])\n",
    "print(urls[:6])\n",
    "len(labels)\n",
    "\n",
    "## Note another way to load is pd.read_json('') which, i think, is more convenient \n",
    "##"
   ]
  },
  {
   "cell_type": "code",
   "execution_count": 3,
   "metadata": {},
   "outputs": [],
   "source": [
    "# Input the hyperparameter so we can adjust later\n",
    "vocab_size  = 100000\n",
    "embedding_dim = 64\n",
    "max_length = 32\n",
    "trunc_type = 'post'\n",
    "padding_type = 'post'\n",
    "oov_tok = 'Unknown'"
   ]
  },
  {
   "cell_type": "code",
   "execution_count": 4,
   "metadata": {},
   "outputs": [
    {
     "name": "stdout",
     "output_type": "stream",
     "text": [
      "22895\n",
      "5724\n",
      "national archives clearly stored constitution in three-ring binder\n",
      "[251, 1377, 738, 9857, 2436, 5, 504, 1251, 6366]\n",
      "[[  251  1377   738 ...     0     0     0]\n",
      " [   89   920   554 ...     0     0     0]\n",
      " [  582  1309  1162 ...     0     0     0]\n",
      " ...\n",
      " [   28   174 13658 ...     0     0     0]\n",
      " [ 1661  3388   286 ...     0     0     0]\n",
      " [   55     5  1122 ...     0     0     0]]\n",
      "frantic, last-second study finds old-fashioned donut better for you than bavarian cream\n",
      "[7055, 118, 324, 91, 106, 62, 7524, 5371, 261, 6, 20, 77, 1, 1562]\n",
      "[7055  118  324   91  106   62 7524 5371  261    6   20   77    1 1562\n",
      "    0    0    0    0    0    0    0    0    0    0    0    0    0    0\n",
      "    0    0    0    0]\n"
     ]
    }
   ],
   "source": [
    "# Split Data into train and test set\n",
    "train_sentences, test_sentences, train_labels, test_labels = train_test_split(sentences, labels, test_size = 0.2, random_state = 1)\n",
    "\n",
    "# Preprocessing data \n",
    "# take in data and encode\n",
    "tokenizer = Tokenizer(num_words = vocab_size,oov_token = oov_tok)\n",
    "tokenizer.fit_on_texts(train_sentences)\n",
    "# return dict comprise of key values pair: word and its indices\n",
    "word_index = tokenizer.word_index\n",
    "\n",
    "# return a sequence of indices representing wordssentences\n",
    "train_sequences = tokenizer.texts_to_sequences(train_sentences)\n",
    "test_sequences = tokenizer.texts_to_sequences(test_sentences)\n",
    "\n",
    "# pad sequences to same length\n",
    "train_padded = pad_sequences(train_sequences, maxlen = max_length, \n",
    "                               padding = padding_type, truncating = trunc_type)\n",
    "test_padded = pad_sequences(test_sequences, maxlen = max_length,\n",
    "                              padding = padding_type, truncating = trunc_type)\n",
    "\n",
    "print(len(train_sentences))\n",
    "print(len(test_sentences))\n",
    "print(train_sentences[0])\n",
    "print(train_sequences[0])\n",
    "print(train_padded)\n",
    "print(test_sentences[0])\n",
    "print(test_sequences[0])\n",
    "print(test_padded[0])"
   ]
  },
  {
   "cell_type": "markdown",
   "metadata": {},
   "source": [
    "## 2. Detection Model with 2 different NN architectures"
   ]
  },
  {
   "cell_type": "code",
   "execution_count": 5,
   "metadata": {},
   "outputs": [],
   "source": [
    "# Set seed to 0 \n",
    "np.random.seed(0)\n",
    "tf.random.set_seed(0)"
   ]
  },
  {
   "cell_type": "markdown",
   "metadata": {},
   "source": [
    "### 1.Baseline Model"
   ]
  },
  {
   "cell_type": "code",
   "execution_count": 6,
   "metadata": {
    "scrolled": true
   },
   "outputs": [
    {
     "name": "stdout",
     "output_type": "stream",
     "text": [
      "Model: \"sequential\"\n",
      "_________________________________________________________________\n",
      "Layer (type)                 Output Shape              Param #   \n",
      "=================================================================\n",
      "embedding (Embedding)        (None, 32, 64)            6400000   \n",
      "_________________________________________________________________\n",
      "flatten (Flatten)            (None, 2048)              0         \n",
      "_________________________________________________________________\n",
      "dropout (Dropout)            (None, 2048)              0         \n",
      "_________________________________________________________________\n",
      "dense (Dense)                (None, 24)                49176     \n",
      "_________________________________________________________________\n",
      "dense_1 (Dense)              (None, 1)                 25        \n",
      "=================================================================\n",
      "Total params: 6,449,201\n",
      "Trainable params: 6,449,201\n",
      "Non-trainable params: 0\n",
      "_________________________________________________________________\n"
     ]
    }
   ],
   "source": [
    "model = tf.keras.Sequential([\n",
    "    Embedding(vocab_size, embedding_dim, input_length = max_length), \n",
    "    Flatten(), #GlobalAveragePooling1D() is another options to go\n",
    "    Dropout(0.2),\n",
    "    Dense(24, activation = 'relu'),\n",
    "    Dense(1, activation = 'sigmoid')\n",
    "])\n",
    "\n",
    "model.compile(loss = 'binary_crossentropy', optimizer = 'adam', metrics = ['accuracy'])\n",
    "model.summary()"
   ]
  },
  {
   "cell_type": "code",
   "execution_count": 7,
   "metadata": {
    "scrolled": true
   },
   "outputs": [
    {
     "name": "stdout",
     "output_type": "stream",
     "text": [
      "WARNING:tensorflow:From C:\\Users\\VisualBI\\Anaconda3\\lib\\site-packages\\tensorflow\\python\\ops\\math_grad.py:1250: add_dispatch_support.<locals>.wrapper (from tensorflow.python.ops.array_ops) is deprecated and will be removed in a future version.\n",
      "Instructions for updating:\n",
      "Use tf.where in 2.0, which has the same broadcast rule as np.where\n",
      "Train on 22895 samples, validate on 5724 samples\n",
      "Epoch 1/10\n",
      "22895/22895 - 61s - loss: 0.4043 - accuracy: 0.8043 - val_loss: 0.3188 - val_accuracy: 0.8602\n",
      "Epoch 2/10\n",
      "22895/22895 - 63s - loss: 0.1392 - accuracy: 0.9480 - val_loss: 0.3129 - val_accuracy: 0.8667\n",
      "Epoch 3/10\n",
      "22895/22895 - 64s - loss: 0.0325 - accuracy: 0.9923 - val_loss: 0.3875 - val_accuracy: 0.8634\n",
      "Epoch 4/10\n",
      "22895/22895 - 61s - loss: 0.0062 - accuracy: 0.9988 - val_loss: 0.4460 - val_accuracy: 0.8622\n",
      "Epoch 5/10\n",
      "22895/22895 - 60s - loss: 0.0015 - accuracy: 0.9999 - val_loss: 0.4932 - val_accuracy: 0.8597\n",
      "Epoch 6/10\n",
      "22895/22895 - 60s - loss: 6.1129e-04 - accuracy: 1.0000 - val_loss: 0.5378 - val_accuracy: 0.8597\n",
      "Epoch 7/10\n",
      "22895/22895 - 62s - loss: 2.9322e-04 - accuracy: 1.0000 - val_loss: 0.5615 - val_accuracy: 0.8611\n",
      "Epoch 8/10\n",
      "22895/22895 - 64s - loss: 1.8366e-04 - accuracy: 1.0000 - val_loss: 0.5979 - val_accuracy: 0.8616\n",
      "Epoch 9/10\n",
      "22895/22895 - 69s - loss: 9.1540e-05 - accuracy: 1.0000 - val_loss: 0.6252 - val_accuracy: 0.8630\n",
      "Epoch 10/10\n",
      "22895/22895 - 64s - loss: 5.4933e-05 - accuracy: 1.0000 - val_loss: 0.6575 - val_accuracy: 0.8608\n"
     ]
    }
   ],
   "source": [
    "num_epochs = 10 \n",
    "baseline = model.fit(train_padded, train_labels, epochs = num_epochs, \n",
    "                    validation_data = (test_padded, test_labels), verbose =2)"
   ]
  },
  {
   "cell_type": "code",
   "execution_count": 8,
   "metadata": {},
   "outputs": [
    {
     "data": {
      "image/png": "[encoded data removed]",
      "text/plain": [
       "<Figure size 432x288 with 1 Axes>"
      ]
     },
     "metadata": {
      "needs_background": "light"
     },
     "output_type": "display_data"
    },
    {
     "data": {
      "image/png": "[encoded data removed]",
      "text/plain": [
       "<Figure size 432x288 with 1 Axes>"
      ]
     },
     "metadata": {
      "needs_background": "light"
     },
     "output_type": "display_data"
    }
   ],
   "source": [
    "# Accuracy and Loss Plot\n",
    "def plot_al(baseline, string):\n",
    "    plt.plot(baseline.history[string])\n",
    "    plt.plot(baseline.history['val_'+ string])\n",
    "    plt.xlabel('Epochs')\n",
    "    plt.ylabel(string)\n",
    "    plt.legend([string, 'val_'+ string])\n",
    "    plt.show()\n",
    "\n",
    "plot_al(baseline, \"accuracy\")\n",
    "plot_al(baseline, 'loss')"
   ]
  },
  {
   "cell_type": "markdown",
   "metadata": {},
   "source": [
    "The accuracy on the training set reach 1 at epoch 5 but the accuracy on the test set remain around 0.86. Another notable is the accuracy loss seems to increase over time. We can see that we are experiencing overfitting problem in the training set. Some tuning or regularization might be needed. Add Weight decay or increase the dropout value might be a good options. "
   ]
  },
  {
   "cell_type": "markdown",
   "metadata": {},
   "source": [
    "### 2. Bidirectional with 2-Layer LTSM & Convolutions"
   ]
  },
  {
   "cell_type": "code",
   "execution_count": 9,
   "metadata": {},
   "outputs": [
    {
     "name": "stdout",
     "output_type": "stream",
     "text": [
      "WARNING:tensorflow:Entity <function standard_lstm at 0x00000212861D7D08> could not be transformed and will be executed as-is. Please report this to the AutoGraph team. When filing the bug, set the verbosity to 10 (on Linux, `export AUTOGRAPH_VERBOSITY=10`) and attach the full output. Cause: converting <function standard_lstm at 0x00000212861D7D08>: AttributeError: module 'gast' has no attribute 'Num'\n",
      "WARNING: Entity <function standard_lstm at 0x00000212861D7D08> could not be transformed and will be executed as-is. Please report this to the AutoGraph team. When filing the bug, set the verbosity to 10 (on Linux, `export AUTOGRAPH_VERBOSITY=10`) and attach the full output. Cause: converting <function standard_lstm at 0x00000212861D7D08>: AttributeError: module 'gast' has no attribute 'Num'\n",
      "WARNING:tensorflow:Entity <function cudnn_lstm at 0x00000212861D7D90> could not be transformed and will be executed as-is. Please report this to the AutoGraph team. When filing the bug, set the verbosity to 10 (on Linux, `export AUTOGRAPH_VERBOSITY=10`) and attach the full output. Cause: converting <function cudnn_lstm at 0x00000212861D7D90>: AttributeError: module 'gast' has no attribute 'Num'\n",
      "WARNING: Entity <function cudnn_lstm at 0x00000212861D7D90> could not be transformed and will be executed as-is. Please report this to the AutoGraph team. When filing the bug, set the verbosity to 10 (on Linux, `export AUTOGRAPH_VERBOSITY=10`) and attach the full output. Cause: converting <function cudnn_lstm at 0x00000212861D7D90>: AttributeError: module 'gast' has no attribute 'Num'\n",
      "WARNING:tensorflow:Entity <function standard_lstm at 0x00000212861D7D08> could not be transformed and will be executed as-is. Please report this to the AutoGraph team. When filing the bug, set the verbosity to 10 (on Linux, `export AUTOGRAPH_VERBOSITY=10`) and attach the full output. Cause: converting <function standard_lstm at 0x00000212861D7D08>: AttributeError: module 'gast' has no attribute 'Num'\n",
      "WARNING: Entity <function standard_lstm at 0x00000212861D7D08> could not be transformed and will be executed as-is. Please report this to the AutoGraph team. When filing the bug, set the verbosity to 10 (on Linux, `export AUTOGRAPH_VERBOSITY=10`) and attach the full output. Cause: converting <function standard_lstm at 0x00000212861D7D08>: AttributeError: module 'gast' has no attribute 'Num'\n",
      "WARNING:tensorflow:Entity <function cudnn_lstm at 0x00000212861D7D90> could not be transformed and will be executed as-is. Please report this to the AutoGraph team. When filing the bug, set the verbosity to 10 (on Linux, `export AUTOGRAPH_VERBOSITY=10`) and attach the full output. Cause: converting <function cudnn_lstm at 0x00000212861D7D90>: AttributeError: module 'gast' has no attribute 'Num'\n",
      "WARNING: Entity <function cudnn_lstm at 0x00000212861D7D90> could not be transformed and will be executed as-is. Please report this to the AutoGraph team. When filing the bug, set the verbosity to 10 (on Linux, `export AUTOGRAPH_VERBOSITY=10`) and attach the full output. Cause: converting <function cudnn_lstm at 0x00000212861D7D90>: AttributeError: module 'gast' has no attribute 'Num'\n",
      "WARNING:tensorflow:Entity <function standard_lstm at 0x00000212861D7D08> could not be transformed and will be executed as-is. Please report this to the AutoGraph team. When filing the bug, set the verbosity to 10 (on Linux, `export AUTOGRAPH_VERBOSITY=10`) and attach the full output. Cause: converting <function standard_lstm at 0x00000212861D7D08>: AttributeError: module 'gast' has no attribute 'Num'\n",
      "WARNING: Entity <function standard_lstm at 0x00000212861D7D08> could not be transformed and will be executed as-is. Please report this to the AutoGraph team. When filing the bug, set the verbosity to 10 (on Linux, `export AUTOGRAPH_VERBOSITY=10`) and attach the full output. Cause: converting <function standard_lstm at 0x00000212861D7D08>: AttributeError: module 'gast' has no attribute 'Num'\n",
      "WARNING:tensorflow:Entity <function cudnn_lstm at 0x00000212861D7D90> could not be transformed and will be executed as-is. Please report this to the AutoGraph team. When filing the bug, set the verbosity to 10 (on Linux, `export AUTOGRAPH_VERBOSITY=10`) and attach the full output. Cause: converting <function cudnn_lstm at 0x00000212861D7D90>: AttributeError: module 'gast' has no attribute 'Num'\n",
      "WARNING: Entity <function cudnn_lstm at 0x00000212861D7D90> could not be transformed and will be executed as-is. Please report this to the AutoGraph team. When filing the bug, set the verbosity to 10 (on Linux, `export AUTOGRAPH_VERBOSITY=10`) and attach the full output. Cause: converting <function cudnn_lstm at 0x00000212861D7D90>: AttributeError: module 'gast' has no attribute 'Num'\n",
      "WARNING:tensorflow:Entity <function standard_lstm at 0x00000212861D7D08> could not be transformed and will be executed as-is. Please report this to the AutoGraph team. When filing the bug, set the verbosity to 10 (on Linux, `export AUTOGRAPH_VERBOSITY=10`) and attach the full output. Cause: converting <function standard_lstm at 0x00000212861D7D08>: AttributeError: module 'gast' has no attribute 'Num'\n",
      "WARNING: Entity <function standard_lstm at 0x00000212861D7D08> could not be transformed and will be executed as-is. Please report this to the AutoGraph team. When filing the bug, set the verbosity to 10 (on Linux, `export AUTOGRAPH_VERBOSITY=10`) and attach the full output. Cause: converting <function standard_lstm at 0x00000212861D7D08>: AttributeError: module 'gast' has no attribute 'Num'\n",
      "WARNING:tensorflow:Entity <function cudnn_lstm at 0x00000212861D7D90> could not be transformed and will be executed as-is. Please report this to the AutoGraph team. When filing the bug, set the verbosity to 10 (on Linux, `export AUTOGRAPH_VERBOSITY=10`) and attach the full output. Cause: converting <function cudnn_lstm at 0x00000212861D7D90>: AttributeError: module 'gast' has no attribute 'Num'\n",
      "WARNING: Entity <function cudnn_lstm at 0x00000212861D7D90> could not be transformed and will be executed as-is. Please report this to the AutoGraph team. When filing the bug, set the verbosity to 10 (on Linux, `export AUTOGRAPH_VERBOSITY=10`) and attach the full output. Cause: converting <function cudnn_lstm at 0x00000212861D7D90>: AttributeError: module 'gast' has no attribute 'Num'\n",
      "Model: \"sequential_1\"\n",
      "_________________________________________________________________\n",
      "Layer (type)                 Output Shape              Param #   \n",
      "=================================================================\n",
      "embedding_1 (Embedding)      (None, 32, 64)            6400064   \n",
      "_________________________________________________________________\n",
      "dropout_1 (Dropout)          (None, 32, 64)            0         \n",
      "_________________________________________________________________\n",
      "conv1d (Conv1D)              (None, 28, 64)            20544     \n",
      "_________________________________________________________________\n",
      "max_pooling1d (MaxPooling1D) (None, 7, 64)             0         \n",
      "_________________________________________________________________\n",
      "bidirectional (Bidirectional (None, 7, 128)            66048     \n",
      "_________________________________________________________________\n",
      "bidirectional_1 (Bidirection (None, 64)                41216     \n",
      "_________________________________________________________________\n",
      "dense_2 (Dense)              (None, 1)                 65        \n",
      "=================================================================\n",
      "Total params: 6,527,937\n",
      "Trainable params: 6,527,937\n",
      "Non-trainable params: 0\n",
      "_________________________________________________________________\n"
     ]
    }
   ],
   "source": [
    "model = tf.keras.Sequential([\n",
    "    Embedding(vocab_size+1, embedding_dim, input_length=max_length),\n",
    "    Dropout(0.2),\n",
    "    Conv1D(64, 5, activation='relu'),\n",
    "    MaxPooling1D(pool_size=4),\n",
    "    Bidirectional(LSTM(64, return_sequences = True)),\n",
    "    Bidirectional(LSTM(32)),\n",
    "    Dense(1, activation='sigmoid')\n",
    "])\n",
    "model.compile(loss='binary_crossentropy',optimizer='adam',metrics=['accuracy'])\n",
    "model.summary()\n"
   ]
  },
  {
   "cell_type": "code",
   "execution_count": 10,
   "metadata": {},
   "outputs": [
    {
     "name": "stdout",
     "output_type": "stream",
     "text": [
      "Train on 22895 samples, validate on 5724 samples\n",
      "Epoch 1/10\n",
      "22895/22895 - 74s - loss: 0.4030 - accuracy: 0.8073 - val_loss: 0.3219 - val_accuracy: 0.8560\n",
      "Epoch 2/10\n",
      "22895/22895 - 70s - loss: 0.1521 - accuracy: 0.9433 - val_loss: 0.3531 - val_accuracy: 0.8618\n",
      "Epoch 3/10\n",
      "22895/22895 - 74s - loss: 0.0385 - accuracy: 0.9878 - val_loss: 0.6110 - val_accuracy: 0.8361\n",
      "Epoch 4/10\n",
      "22895/22895 - 72s - loss: 0.0191 - accuracy: 0.9936 - val_loss: 0.5717 - val_accuracy: 0.8482\n",
      "Epoch 5/10\n",
      "22895/22895 - 78s - loss: 0.0099 - accuracy: 0.9967 - val_loss: 0.6340 - val_accuracy: 0.8506\n",
      "Epoch 6/10\n",
      "22895/22895 - 73s - loss: 0.0073 - accuracy: 0.9976 - val_loss: 0.8608 - val_accuracy: 0.8424\n",
      "Epoch 7/10\n",
      "22895/22895 - 76s - loss: 0.0048 - accuracy: 0.9983 - val_loss: 0.8910 - val_accuracy: 0.8478\n",
      "Epoch 8/10\n",
      "22895/22895 - 70s - loss: 0.0055 - accuracy: 0.9983 - val_loss: 0.6608 - val_accuracy: 0.8470\n",
      "Epoch 9/10\n",
      "22895/22895 - 78s - loss: 0.0048 - accuracy: 0.9983 - val_loss: 0.9187 - val_accuracy: 0.8480\n",
      "Epoch 10/10\n",
      "22895/22895 - 72s - loss: 0.0059 - accuracy: 0.9980 - val_loss: 0.9492 - val_accuracy: 0.8368\n"
     ]
    }
   ],
   "source": [
    "LTSM2 = model.fit(train_padded, train_labels, epochs = num_epochs, \n",
    "                    validation_data = (test_padded, test_labels), verbose =2)"
   ]
  },
  {
   "cell_type": "code",
   "execution_count": 11,
   "metadata": {},
   "outputs": [
    {
     "data": {
      "image/png": "[encoded data removed]",
      "text/plain": [
       "<Figure size 432x288 with 1 Axes>"
      ]
     },
     "metadata": {
      "needs_background": "light"
     },
     "output_type": "display_data"
    },
    {
     "data": {
      "image/png": "[encoded data removed]",
      "text/plain": [
       "<Figure size 432x288 with 1 Axes>"
      ]
     },
     "metadata": {
      "needs_background": "light"
     },
     "output_type": "display_data"
    }
   ],
   "source": [
    "# Accuracy and Loss Plot\n",
    "def plot_al(LTSM2, string):\n",
    "    plt.plot(LTSM2.history[string])\n",
    "    plt.plot(LTSM2.history['val_'+ string])\n",
    "    plt.xlabel('Epochs')\n",
    "    plt.ylabel(string)\n",
    "    plt.legend([string, 'val_'+ string])\n",
    "    plt.show()\n",
    "\n",
    "plot_al(LTSM2, \"accuracy\")\n",
    "plot_al(LTSM2, 'loss')"
   ]
  },
  {
   "cell_type": "markdown",
   "metadata": {},
   "source": [
    "The model still experience similar overfitting problems just like the baseline model. Method like Weight Decay or adjusting dropout value can be applied. \n",
    "However, the bidirectional RNN suprisingly does not seem to work as well compared to based line model. The accuracy on the test set only reach ~0.86 and consistently be around 0.84. The loss in the test set has a lot of up-and-down shape. Furthermore, it takes longer for the birectional RNN to run results."
   ]
  }
 ],
 "metadata": {
  "kernelspec": {
   "display_name": "Python 3",
   "language": "python",
   "name": "python3"
  },
  "language_info": {
   "codemirror_mode": {
    "name": "ipython",
    "version": 3
   },
   "file_extension": ".py",
   "mimetype": "text/x-python",
   "name": "python",
   "nbconvert_exporter": "python",
   "pygments_lexer": "ipython3",
   "version": "3.7.3"
  }
 },
 "nbformat": 4,
 "nbformat_minor": 2
}
